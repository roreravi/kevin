{
 "cells": [
  {
   "cell_type": "markdown",
   "metadata": {},
   "source": [
    "Clase Nivel Avanzado: Análisis Temporal, Funciones Personalizadas y Visualizaciones Sofisticadas en Datos de Tenis con Pandas\n",
    "Objetivo: Que el estudiante sea capaz de realizar análisis temporales básicos, aplicar funciones personalizadas complejas al DataFrame y crear visualizaciones avanzadas para comunicar hallazgos de manera efectiva en el contexto del análisis de datos deportivos.\n",
    "\n",
    "Duración: 1 hora y 30 minutos\n",
    "\n",
    "Dataset: El mismo dataset atp_tennis.csv.\n",
    "\n",
    "Estructura de la Clase:\n",
    "\n",
    "Repaso y Preparación Avanzada del Dataset (15 minutos):\n",
    "\n",
    "Recordatorio de los conceptos de las clases anteriores.\n",
    "Carga del dataset, limpieza básica (eliminación de NaNs y conversión de 'Date' a datetime).\n",
    "Establecimiento de la columna 'Date' como índice del DataFrame para facilitar el análisis temporal."
   ]
  },
  {
   "cell_type": "code",
   "execution_count": null,
   "metadata": {
    "vscode": {
     "languageId": "plaintext"
    }
   },
   "outputs": [],
   "source": [
    "import pandas as pd\n",
    "import matplotlib.pyplot as plt\n",
    "import seaborn as sns\n",
    "\n",
    "# Cargamos el dataset\n",
    "df = pd.read_csv('atp_tennis.csv')\n",
    "\n",
    "# Limpieza básica: eliminar filas con valores nulos\n",
    "df_cleaned = df.dropna().copy()\n",
    "\n",
    "# Convertimos la columna 'Date' a datetime\n",
    "df_cleaned['Date'] = pd.to_datetime(df_cleaned['Date'])\n",
    "\n",
    "# Establecemos la columna 'Date' como índice\n",
    "df_indexed = df_cleaned.set_index('Date').sort_index()\n",
    "\n",
    "print(\"Dataset con 'Date' como índice:\")\n",
    "print(df_indexed.head())"
   ]
  },
  {
   "cell_type": "markdown",
   "metadata": {},
   "source": [
    ".set_index('Date'): Convierte la columna 'Date' en el índice del DataFrame.\n",
    ".sort_index(): Ordena el DataFrame por su índice (en este caso, la fecha), lo cual es crucial para el análisis temporal.\n",
    "Análisis Temporal Básico (25 minutos):\n",
    "\n",
    "Tendencias anuales en el número de partidos:"
   ]
  },
  {
   "cell_type": "code",
   "execution_count": null,
   "metadata": {
    "vscode": {
     "languageId": "plaintext"
    }
   },
   "outputs": [],
   "source": [
    "# Resampleamos los datos por año y contamos el número de partidos\n",
    "yearly_matches = df_indexed.resample('Y').size()\n",
    "print(\"\\nNúmero de partidos por año:\")\n",
    "print(yearly_matches)\n",
    "\n",
    "# Visualizamos la tendencia anual\n",
    "plt.figure(figsize=(12, 6))\n",
    "yearly_matches.plot(kind='line', marker='o')\n",
    "plt.title('Tendencia Anual del Número de Partidos Jugados')\n",
    "plt.xlabel('Año')\n",
    "plt.ylabel('Número de Partidos')\n",
    "plt.grid(True)\n",
    "plt.show()"
   ]
  },
  {
   "cell_type": "markdown",
   "metadata": {},
   "source": [
    ".resample('Y'): Realiza un remuestreo de los datos basado en la frecuencia 'Y' (anual). Como tenemos la fecha como índice, esto agrupa los datos por año.\n",
    ".size(): Cuenta el número de filas en cada grupo anual, lo que representa el número de partidos jugados en ese año.\n",
    ".plot(kind='line', marker='o'): Crea un gráfico de líneas con marcadores en los puntos de datos para visualizar la tendencia.\n",
    "plt.grid(True): Añade una cuadrícula al gráfico para facilitar la lectura de los valores.\n",
    "Análisis de la frecuencia de torneos a lo largo del tiempo:"
   ]
  },
  {
   "cell_type": "code",
   "execution_count": null,
   "metadata": {
    "vscode": {
     "languageId": "plaintext"
    }
   },
   "outputs": [],
   "source": [
    "# Contamos el número de veces que se jugó cada torneo por año\n",
    "yearly_tournament_counts = df_indexed.groupby(pd.Grouper(freq='Y'))['Tournament'].value_counts().unstack(fill_value=0)\n",
    "print(\"\\nNúmero de veces que se jugó cada torneo por año (primeras columnas):\")\n",
    "print(yearly_tournament_counts.iloc[:, :5].head()) # Mostramos solo las primeras 5 columnas para no saturar la salida\n",
    "\n",
    "# Visualizamos la tendencia de algunos torneos importantes (ejemplo: Wimbledon, Australian Open)\n",
    "plt.figure(figsize=(12, 6))\n",
    "if 'Wimbledon' in yearly_tournament_counts.columns:\n",
    "    yearly_tournament_counts['Wimbledon'].plot(label='Wimbledon', marker='o')\n",
    "if 'Australian Open' in yearly_tournament_counts.columns:\n",
    "    yearly_tournament_counts['Australian Open'].plot(label='Australian Open', marker='o')\n",
    "plt.title('Frecuencia Anual de Torneos Seleccionados')\n",
    "plt.xlabel('Año')\n",
    "plt.ylabel('Número de Veces Jugado')\n",
    "plt.legend()\n",
    "plt.grid(True)\n",
    "plt.show()"
   ]
  },
  {
   "cell_type": "markdown",
   "metadata": {},
   "source": [
    "pd.Grouper(freq='Y'): Se utiliza dentro de groupby() cuando el índice es una fecha para agrupar por períodos de tiempo específicos (en este caso, años).\n",
    ".value_counts().unstack(fill_value=0): Cuenta la frecuencia de cada torneo dentro de cada grupo anual y luego utiliza unstack() para pivotar la tabla, convirtiendo los nombres de los torneos en columnas y llenando los valores faltantes con 0.\n",
    ".iloc[:, :5]: Permite seleccionar un subconjunto de las columnas del DataFrame (en este caso, las primeras 5).\n",
    "plt.legend(): Muestra la leyenda del gráfico para identificar las líneas de los diferentes torneos.\n",
    "Aplicación de Funciones Personalizadas Complejas (30 minutos):\n",
    "\n",
    "Función para calcular una \"puntuación de sorpresa\" basada en la diferencia de ranking y las cuotas (esto es un ejemplo y puede requerir más lógica del negocio del tenis):"
   ]
  },
  {
   "cell_type": "code",
   "execution_count": null,
   "metadata": {
    "vscode": {
     "languageId": "plaintext"
    }
   },
   "outputs": [],
   "source": [
    "import numpy as np\n",
    "\n",
    "def calculate_surprise_score(row):\n",
    "    rank_diff = abs(row['Rank_1'] - row['Rank_2'])\n",
    "    if pd.notna(row['Odd_1']) and pd.notna(row['Odd_2']):\n",
    "        # Cuanto mayor sea la cuota del ganador, mayor la sorpresa (simplificado)\n",
    "        if row['Winner'] == row['Player_1']:\n",
    "            surprise = rank_diff + (row['Odd_1'] - 1)\n",
    "        else:\n",
    "            surprise = rank_diff + (row['Odd_2'] - 1)\n",
    "        return surprise\n",
    "    return None\n",
    "\n",
    "df_indexed['Surprise_Score'] = df_indexed.apply(calculate_surprise_score, axis=1)\n",
    "print(\"\\nPrimeras filas con la 'Surprise_Score':\")\n",
    "print(df_indexed[['Rank_1', 'Rank_2', 'Odd_1', 'Odd_2', 'Winner', 'Surprise_Score']].head())\n",
    "\n",
    "# Visualizamos la distribución de la puntuación de sorpresa\n",
    "plt.figure(figsize=(10, 6))\n",
    "sns.histplot(df_indexed['Surprise_Score'].dropna(), bins=30, kde=True)\n",
    "plt.title('Distribución de la Puntuación de Sorpresa')\n",
    "plt.xlabel('Puntuación de Sorpresa')\n",
    "plt.ylabel('Frecuencia')\n",
    "plt.show()"
   ]
  },
  {
   "cell_type": "markdown",
   "metadata": {},
   "source": [
    "import numpy as np: Importa la librería NumPy, que a menudo se utiliza con Pandas para operaciones numéricas.\n",
    "pd.notna(): Función de Pandas que verifica si un valor no es NaN (Not a Number).\n",
    "La función calculate_surprise_score es un ejemplo de cómo se podría crear una métrica personalizada combinando diferentes columnas. La lógica específica dependerá del conocimiento del deporte.\n",
    "Función para identificar rachas de victorias de un jugador (esto requeriría un procesamiento más complejo y podría ser un punto de partida para un proyecto más grande):"
   ]
  },
  {
   "cell_type": "code",
   "execution_count": null,
   "metadata": {
    "vscode": {
     "languageId": "plaintext"
    }
   },
   "outputs": [],
   "source": [
    "def identify_streaks(df, player_name):\n",
    "    player_matches = ((df['Player_1'] == player_name) & (df['Winner'] == player_name)) | ((df['Player_2'] == player_name) & (df['Winner'] == player_name))\n",
    "    streaks = []\n",
    "    current_streak = 0\n",
    "    for is_win in player_matches.sort_index(): # Asegurarse de que esté ordenado por fecha\n",
    "        if is_win:\n",
    "            current_streak += 1\n",
    "        else:\n",
    "            if current_streak > 0:\n",
    "                streaks.append(current_streak)\n",
    "            current_streak = 0\n",
    "    if current_streak > 0:\n",
    "        streaks.append(current_streak)\n",
    "    return streaks\n",
    "\n",
    "federer_streaks = identify_streaks(df_indexed.copy(), 'Roger Federer') # Usamos .copy() para no modificar el original\n",
    "if federer_streaks:\n",
    "    print(f\"\\nRachas de victorias de Roger Federer: {federer_streaks}\")\n",
    "    print(f\"Racha más larga de Roger Federer: {max(federer_streaks) if federer_streaks else 0}\")\n",
    "else:\n",
    "    print(\"\\nNo se encontraron rachas de victorias para Roger Federer.\")"
   ]
  },
  {
   "cell_type": "markdown",
   "metadata": {},
   "source": [
    "Esta función es un ejemplo más avanzado que itera sobre las filas (después de filtrar los partidos del jugador y ordenarlos por fecha) para identificar secuencias de victorias. Es importante notar que este tipo de análisis secuencial puede ser más eficiente con otras técnicas o librerías para datasets muy grandes.\n",
    "Visualizaciones Sofisticadas (15 minutos):\n",
    "\n",
    "Gráfico de dispersión de la relación entre la diferencia de ranking y la \"sorpresa\":"
   ]
  },
  {
   "cell_type": "code",
   "execution_count": null,
   "metadata": {
    "vscode": {
     "languageId": "plaintext"
    }
   },
   "outputs": [],
   "source": [
    "plt.figure(figsize=(10, 7))\n",
    "sns.scatterplot(x='Rank_Difference', y='Surprise_Score', data=df_indexed.dropna())\n",
    "plt.title('Relación entre Diferencia de Ranking y Puntuación de Sorpresa')\n",
    "plt.xlabel('Diferencia de Ranking')\n",
    "plt.ylabel('Puntuación de Sorpresa')\n",
    "plt.grid(True)\n",
    "plt.show()"
   ]
  },
  {
   "cell_type": "markdown",
   "metadata": {},
   "source": [
    "sns.scatterplot(...): Crea un gráfico de dispersión para visualizar la relación entre dos variables numéricas.\n",
    "(Opcional, si hay tiempo e interés): Introducción a visualizaciones interactivas con Plotly Express (requiere instalación: pip install plotly)"
   ]
  },
  {
   "cell_type": "code",
   "execution_count": null,
   "metadata": {
    "vscode": {
     "languageId": "plaintext"
    }
   },
   "outputs": [],
   "source": [
    "# import plotly.express as px\n",
    "\n",
    "# top_tournaments = df_indexed['Tournament'].value_counts().nlargest(10).index\n",
    "# filtered_df = df_indexed[df_indexed['Tournament'].isin(top_tournaments)]\n",
    "\n",
    "# fig = px.box(filtered_df, x='Tournament', y='Rank_Difference', title='Distribución de la Diferencia de Ranking en los 10 Torneos Principales')\n",
    "# fig.show()"
   ]
  },
  {
   "cell_type": "markdown",
   "metadata": {},
   "source": [
    "import plotly.express as px: Importa la librería Plotly Express, que facilita la creación de visualizaciones interactivas.\n",
    "Las visualizaciones interactivas permiten al usuario interactuar con el gráfico (zoom, hover para ver detalles, etc.).\n",
    "Ejercicios para el Estudiante (10 minutos):\n",
    "\n",
    "Realiza un análisis temporal del número de partidos jugados por superficie a lo largo de los años. ¿Hay alguna tendencia notable?\n",
    "Crea una función que calcule la diferencia en los puntos del ranking ('Pts_1' - 'Pts_2'). Aplica esta función al DataFrame y visualiza su distribución.\n",
    "Intenta identificar los torneos que históricamente han tenido las mayores \"sorpresas\" promedio (basado en la métrica que creamos).\n",
    "(Desafío) Investiga cómo podrías utilizar ventanas móviles (rolling windows) en Pandas para analizar tendencias en el ranking promedio de los ganadores a lo largo del tiempo.\n",
    "Cierre (5 minutos):\n",
    "\n",
    "Recapitulación de las técnicas avanzadas aprendidas.\n",
    "Discusión sobre la importancia del análisis temporal y la creación de métricas personalizadas en el análisis deportivo.\n",
    "Menciones sobre posibles caminos a seguir en el aprendizaje (series de tiempo más avanzadas, machine learning para predicción deportiva, etc.).\n",
    "Este nivel avanzado busca consolidar las habilidades del estudiante y abrirle las puertas a análisis más profundos y personalizados de datos deportivos. ¡Espero que esta clase sea un gran avance para tu alumno!"
   ]
  }
 ],
 "metadata": {
  "language_info": {
   "name": "python"
  }
 },
 "nbformat": 4,
 "nbformat_minor": 2
}
