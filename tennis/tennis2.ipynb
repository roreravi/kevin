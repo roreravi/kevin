{
 "cells": [
  {
   "cell_type": "markdown",
   "metadata": {},
   "source": [
    "Clase Nivel Intermedio: Análisis Avanzado y Creación de Características en Datos de Tenis con Pandas\n",
    "Objetivo: Que el estudiante sea capaz de manipular DataFrames de manera más avanzada, crear nuevas columnas relevantes para el análisis deportivo y generar visualizaciones que permitan obtener insights más profundos de los datos de tenis.\n",
    "\n",
    "Duración: 1 hora y 30 minutos\n",
    "\n",
    "Dataset: El mismo dataset atp_tennis.csv que utilizamos en la clase principiante.\n",
    "\n",
    "Estructura de la Clase:\n",
    "\n",
    "Repaso de la Clase Anterior y Preparación del Dataset (15 minutos):\n",
    "\n",
    "Breve recapitulación de la carga, limpieza básica y consultas.\n",
    "Carga del dataset y realización de la limpieza básica que aprendimos (eliminación de filas con valores nulos y conversión de la columna 'Date' a datetime)."
   ]
  },
  {
   "cell_type": "code",
   "execution_count": null,
   "metadata": {
    "vscode": {
     "languageId": "plaintext"
    }
   },
   "outputs": [],
   "source": [
    "import pandas as pd\n",
    "import matplotlib.pyplot as plt\n",
    "import seaborn as sns\n",
    "\n",
    "# Cargamos el dataset\n",
    "df = pd.read_csv('atp_tennis.csv')\n",
    "\n",
    "# Limpieza básica: eliminar filas con valores nulos\n",
    "df_cleaned = df.dropna().copy() # Usamos .copy() para evitar warnings sobre modificaciones en la vista\n",
    "\n",
    "# Convertimos la columna 'Date' a datetime\n",
    "df_cleaned['Date'] = pd.to_datetime(df_cleaned['Date'])\n",
    "\n",
    "print(\"Dataset limpio y con la columna 'Date' en formato datetime:\")\n",
    "print(df_cleaned.head())"
   ]
  },
  {
   "cell_type": "markdown",
   "metadata": {},
   "source": [
    ".copy(): Crea una copia independiente del DataFrame. Esto es una buena práctica para evitar modificar el DataFrame original accidentalmente cuando se realizan operaciones.\n",
    "Creación de Nuevas Características (Feature Engineering) (35 minutos):\n",
    "\n",
    "Duración de los partidos (aproximación basada en el score):\n",
    "\n",
    "Aunque no tenemos la duración exacta, podemos crear una característica aproximada basada en el número de sets jugados."
   ]
  },
  {
   "cell_type": "code",
   "execution_count": null,
   "metadata": {
    "vscode": {
     "languageId": "plaintext"
    }
   },
   "outputs": [],
   "source": [
    "# Función para contar el número de sets jugados basados en el 'Score'\n",
    "def count_sets(score):\n",
    "    if isinstance(score, str):\n",
    "        return len(score.split())\n",
    "    return None\n",
    "\n",
    "# Aplicamos la función a la columna 'Score' para crear la columna 'Sets_Played'\n",
    "df_cleaned['Sets_Played'] = df_cleaned['Score'].apply(count_sets)\n",
    "print(\"\\nPrimeras filas con la columna 'Sets_Played':\")\n",
    "print(df_cleaned[['Score', 'Sets_Played']].head())\n",
    "\n",
    "# Visualizamos la distribución del número de sets jugados\n",
    "plt.figure(figsize=(8, 6))\n",
    "sns.countplot(x='Sets_Played', data=df_cleaned)\n",
    "plt.title('Distribución del Número de Sets Jugados')\n",
    "plt.xlabel('Número de Sets')\n",
    "plt.ylabel('Número de Partidos')\n",
    "plt.show()"
   ]
  },
  {
   "cell_type": "markdown",
   "metadata": {},
   "source": [
    "def count_sets(score):: Define una función llamada count_sets que toma una cadena de texto score como argumento.\n",
    "isinstance(score, str): Verifica si el argumento score es una cadena de texto. Esto es importante para manejar posibles valores no válidos en la columna.\n",
    "score.split(): Si score es una cadena, este método divide la cadena en una lista de subcadenas utilizando el espacio como delimitador (ej: '6-3 7-5' se convierte en ['6-3', '7-5']). La longitud de esta lista nos da el número de sets.\n",
    "df_cleaned['Score'].apply(count_sets): Aplica la función count_sets a cada valor de la columna 'Score' del DataFrame df_cleaned. El resultado (el número de sets para cada partido) se asigna a una nueva columna llamada 'Sets_Played'.\n",
    "sns.countplot(x='Sets_Played', data=df_cleaned): Crea un gráfico de barras que muestra la frecuencia de cada valor en la columna 'Sets_Played'.\n",
    "Diferencia de ranking entre jugadores:"
   ]
  },
  {
   "cell_type": "code",
   "execution_count": null,
   "metadata": {
    "vscode": {
     "languageId": "plaintext"
    }
   },
   "outputs": [],
   "source": [
    "# Creamos una nueva columna con la diferencia de ranking\n",
    "df_cleaned['Rank_Difference'] = abs(df_cleaned['Rank_1'] - df_cleaned['Rank_2'])\n",
    "print(\"\\nPrimeras filas con la columna 'Rank_Difference':\")\n",
    "print(df_cleaned[['Rank_1', 'Rank_2', 'Rank_Difference']].head())\n",
    "\n",
    "# Visualizamos la distribución de la diferencia de ranking\n",
    "plt.figure(figsize=(10, 6))\n",
    "sns.histplot(df_cleaned['Rank_Difference'], bins=30, kde=True) # kde=True añade una estimación de la densidad del kernel\n",
    "plt.title('Distribución de la Diferencia de Ranking entre Jugadores')\n",
    "plt.xlabel('Diferencia de Ranking')\n",
    "plt.ylabel('Frecuencia')\n",
    "plt.show()"
   ]
  },
  {
   "cell_type": "markdown",
   "metadata": {},
   "source": [
    "abs(): Función incorporada de Python que devuelve el valor absoluto de un número.\n",
    "sns.histplot(...): Crea un histograma, que es una representación gráfica de la distribución de datos numéricos. bins especifica el número de barras (bins) en el histograma, y kde=True superpone una estimación de la densidad de probabilidad.\n",
    "¿Jugó el mejor rankeado como local? (Asumiendo Player_1 como local - esto es una simplificación y podría no ser siempre cierto):"
   ]
  },
  {
   "cell_type": "code",
   "execution_count": null,
   "metadata": {
    "vscode": {
     "languageId": "plaintext"
    }
   },
   "outputs": [],
   "source": [
    "# Creamos una columna booleana indicando si el jugador 1 tenía mejor ranking\n",
    "df_cleaned['P1_Better_Ranked'] = df_cleaned['Rank_1'] < df_cleaned['Rank_2']\n",
    "print(\"\\nPrimeras filas con la columna 'P1_Better_Ranked':\")\n",
    "print(df_cleaned[['Rank_1', 'Rank_2', 'P1_Better_Ranked']].head())\n",
    "\n",
    "# Contamos cuántas veces el jugador 1 tenía mejor ranking y ganó\n",
    "better_ranked_p1_won = df_cleaned[(df_cleaned['P1_Better_Ranked'] == True) & (df_cleaned['Winner'] == df_cleaned['Player_1'])]\n",
    "print(f\"\\nNúmero de partidos donde el jugador 1 tenía mejor ranking y ganó: {len(better_ranked_p1_won)}\")"
   ]
  },
  {
   "cell_type": "markdown",
   "metadata": {},
   "source": [
    "Al comparar directamente las columnas booleanas y de texto con ==, se crea una nueva Serie booleana que indica dónde la condición es verdadera.\n",
    "Podemos combinar múltiples condiciones de filtrado usando los operadores lógicos & (and) y | (or).\n",
    "Consultas y Agregaciones Más Complejas (25 minutos):\n",
    "\n",
    "Encontrar el torneo con más partidos jugados:"
   ]
  },
  {
   "cell_type": "code",
   "execution_count": null,
   "metadata": {
    "vscode": {
     "languageId": "plaintext"
    }
   },
   "outputs": [],
   "source": [
    "tournament_counts = df_cleaned['Tournament'].value_counts()\n",
    "most_common_tournament = tournament_counts.idxmax() # Devuelve el índice con el valor máximo\n",
    "count_most_common = tournament_counts.max()\n",
    "print(f\"\\nEl torneo con más partidos jugados es '{most_common_tournament}' con {count_most_common} partidos.\")"
   ]
  },
  {
   "cell_type": "markdown",
   "metadata": {},
   "source": [
    "value_counts(): Como vimos antes, cuenta la frecuencia de cada valor en una columna.\n",
    ".idxmax(): Devuelve el índice (en este caso, el nombre del torneo) que tiene el valor máximo en la Serie tournament_counts.\n",
    ".max(): Devuelve el valor máximo en la Serie tournament_counts.\n",
    "Ranking promedio de los ganadores por superficie:"
   ]
  },
  {
   "cell_type": "code",
   "execution_count": null,
   "metadata": {
    "vscode": {
     "languageId": "plaintext"
    }
   },
   "outputs": [],
   "source": [
    "# Creamos una función para obtener el ranking del ganador\n",
    "def get_winner_rank(row):\n",
    "    if row['Winner'] == row['Player_1']:\n",
    "        return row['Rank_1']\n",
    "    elif row['Winner'] == row['Player_2']:\n",
    "        return row['Rank_2']\n",
    "    return None\n",
    "\n",
    "df_cleaned['Winner_Rank'] = df_cleaned.apply(get_winner_rank, axis=1)\n",
    "\n",
    "# Calculamos el ranking promedio de los ganadores por superficie\n",
    "average_winner_rank_by_surface = df_cleaned.groupby('Surface')['Winner_Rank'].mean().sort_values()\n",
    "print(\"\\nRanking promedio de los ganadores por superficie:\")\n",
    "print(average_winner_rank_by_surface)\n",
    "\n",
    "# Visualizamos esta información\n",
    "plt.figure(figsize=(10, 6))\n",
    "sns.barplot(x=average_winner_rank_by_surface.index, y=average_winner_rank_by_surface.values)\n",
    "plt.title('Ranking Promedio de los Ganadores por Superficie')\n",
    "plt.xlabel('Superficie')\n",
    "plt.ylabel('Ranking Promedio del Ganador')\n",
    "plt.xticks(rotation=45, ha='right')\n",
    "plt.tight_layout()\n",
    "plt.show()"
   ]
  },
  {
   "cell_type": "markdown",
   "metadata": {},
   "source": [
    "df_cleaned.apply(get_winner_rank, axis=1): Aplica la función get_winner_rank a cada fila del DataFrame (axis=1). La función toma una fila como entrada y devuelve el ranking del ganador.\n",
    "df_cleaned.groupby('Surface'): Agrupa el DataFrame por los valores únicos de la columna 'Surface'.\n",
    "['Winner_Rank'].mean(): Calcula la media de la columna 'Winner_Rank' dentro de cada grupo (cada superficie).\n",
    ".sort_values(): Ordena la Serie resultante por los valores del ranking promedio.\n",
    "Visualizaciones Más Informativas (10 minutos):\n",
    "\n",
    "Boxplot de la diferencia de ranking vs. el ganador:\n"
   ]
  },
  {
   "cell_type": "code",
   "execution_count": null,
   "metadata": {
    "vscode": {
     "languageId": "plaintext"
    }
   },
   "outputs": [],
   "source": [
    "plt.figure(figsize=(10, 7))\n",
    "sns.boxplot(x='Winner', y='Rank_Difference', data=df_cleaned)\n",
    "plt.title('Diferencia de Ranking vs. Ganador del Partido')\n",
    "plt.xlabel('Ganador')\n",
    "plt.ylabel('Diferencia de Ranking')\n",
    "plt.show()"
   ]
  },
  {
   "cell_type": "markdown",
   "metadata": {},
   "source": [
    "sns.boxplot(...): Crea un diagrama de caja (boxplot), que muestra la distribución de una variable numérica para diferentes categorías. En este caso, vemos la distribución de la diferencia de ranking cuando el ganador fue el Jugador 1 versus cuando fue el Jugador 2.\n",
    "Ejercicios para el Estudiante (10 minutos):\n",
    "\n",
    "Crea una nueva columna que indique si el partido se jugó en cancha dura ('Hard').\n",
    "Calcula el número promedio de sets jugados por superficie.\n",
    "Encuentra los 5 torneos con la mayor diferencia promedio de ranking entre los jugadores.\n",
    "Genera un gráfico de barras que muestre el número de partidos donde el 'Mejor de' fue 3 sets y donde fue 5 sets.\n",
    "Cierre (5 minutos):\n",
    "\n",
    "Resumen de la creación de nuevas características y consultas avanzadas.\n",
    "Discusión sobre cómo estas técnicas pueden proporcionar insights más profundos en el análisis deportivo.\n",
    "Introducción a la próxima clase (nivel avanzado).\n",
    "¡Espero que esta clase sea muy enriquecedora para tu alumno! Avísame cuando estén listos para el nivel avanzado.\n",
    "\n"
   ]
  }
 ],
 "metadata": {
  "language_info": {
   "name": "python"
  }
 },
 "nbformat": 4,
 "nbformat_minor": 2
}
